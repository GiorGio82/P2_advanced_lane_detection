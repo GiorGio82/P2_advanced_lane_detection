{
 "cells": [
  {
   "cell_type": "code",
   "execution_count": 1,
   "metadata": {},
   "outputs": [],
   "source": [
    "import numpy as np\n",
    "import cv2\n",
    "import glob\n",
    "import pickle\n",
    "\n",
    "\n",
    "def populate_points(images,objpoints,objpt,imgpoints,nx,ny):\n",
    "    for im in images:\n",
    "        img = cv2.imread(im)\n",
    "        imsize = img.shape[1::-1]\n",
    "        #convert to gray\n",
    "        gray = cv2.cvtColor(img,cv2.COLOR_BGR2GRAY)\n",
    "\n",
    "        ret, corners = cv2.findChessboardCorners(gray,(nx,ny),None)\n",
    "\n",
    "        if ret == True:\n",
    "            objpoints.append(objpt) #always append the same points\n",
    "            imgpoints.append(corners) #append new corners\n",
    "\n",
    "    return objpoints,imgpoints\n",
    "\n",
    "def calibrate(imsize, objpoints, imgpoints):\n",
    "\n",
    "    ret, mtx, dist, rvecs, tvecs = cv2.calibrateCamera(objpoints,imgpoints,imsize,None,None)\n",
    "    \n",
    "    return ret, mtx, dist, rvecs, tvecs\n",
    "\n",
    "\n",
    "def run_calibration_process():\n",
    "    # Make a list of calibration images\n",
    "    images = glob.glob('camera_cal/calibration*.jpg')    \n",
    "\n",
    "    #assuming all images have the same size\n",
    "    img = cv2.imread(images[0])\n",
    "    imsize = img.shape[1::-1]\n",
    "\n",
    "    # Arrays to store object points and image points from all the images.\n",
    "    objpoints = [] # 3d points in real world space\n",
    "    imgpoints = [] # 2d points in image plane.    \n",
    "\n",
    "    nx = 9\n",
    "    ny = 6\n",
    "\n",
    "    objpt = np.zeros((nx*ny,3),np.float32)\n",
    "    #x,y coordinates, z remains zero\n",
    "    #mgrid returns the coordinates values for a given gridsize\n",
    "    #then we shape the coordinates back in two colums one for x and one for y\n",
    "    objpt[:,:2] = np.mgrid[0:nx,0:ny].T.reshape(-1,2) \n",
    "\n",
    "    #populate obj and img points \n",
    "    objpoints,imgpoints = populate_points(images,objpoints,objpt,imgpoints,nx,ny)\n",
    "    #calibrate the camera\n",
    "    ret, mtx, dist, rvecs, tvecs = calibrate(imsize, objpoints, imgpoints)\n",
    "    print(\"camera calibration done\")\n",
    "    return mtx, dist, rvecs, tvecs\n",
    "\n"
   ]
  },
  {
   "cell_type": "code",
   "execution_count": 2,
   "metadata": {},
   "outputs": [
    {
     "name": "stdout",
     "output_type": "stream",
     "text": [
      "camera calibration done\n"
     ]
    }
   ],
   "source": [
    "mtx, dist, rvecs, tvecs  = run_calibration_process()\n",
    "\n",
    "camera_params = {'mtx':mtx,'dist':dist,'rvecs':rvecs,'tvecs':rvecs}\n",
    "\n",
    "pickle.dump(camera_params, open( \"camera_calibration.p\", \"wb\" ) )\n",
    "\n"
   ]
  },
  {
   "cell_type": "code",
   "execution_count": null,
   "metadata": {},
   "outputs": [],
   "source": []
  }
 ],
 "metadata": {
  "kernelspec": {
   "display_name": "Python 3",
   "language": "python",
   "name": "python3"
  },
  "language_info": {
   "codemirror_mode": {
    "name": "ipython",
    "version": 3
   },
   "file_extension": ".py",
   "mimetype": "text/x-python",
   "name": "python",
   "nbconvert_exporter": "python",
   "pygments_lexer": "ipython3",
   "version": "3.7.9"
  }
 },
 "nbformat": 4,
 "nbformat_minor": 4
}
